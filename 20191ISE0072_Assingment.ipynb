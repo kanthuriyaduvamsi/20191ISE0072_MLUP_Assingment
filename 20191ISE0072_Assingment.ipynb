{
  "nbformat": 4,
  "nbformat_minor": 0,
  "metadata": {
    "colab": {
      "name": "20191ISE0072_Assingment.ipynb",
      "provenance": []
    },
    "kernelspec": {
      "name": "python3",
      "display_name": "Python 3"
    }
  },
  "cells": [
    {
      "metadata": {
        "id": "344R33x0ngp1",
        "colab": {
          "base_uri": "https://localhost:8080/",
          "height": 34
        },
        "outputId": "e2ffd549-e42d-4b30-e0a8-9874929ebeda"
      },
      "cell_type": "code",
      "source": [
        "#Step 2\n",
        "\n",
        "import numpy\n",
        "import pandas\n",
        "from keras.models import Sequential\n",
        "from keras.layers import Dense\n",
        "from keras.wrappers.scikit_learn import KerasClassifier\n",
        "from sklearn.model_selection import cross_val_score\n",
        "from sklearn.preprocessing import LabelEncoder\n",
        "from sklearn.model_selection import StratifiedKFold\n",
        "from sklearn.preprocessing import StandardScaler\n",
        "from sklearn.pipeline import Pipeline\n",
        "from sklearn import preprocessing\n",
        "\n",
        "# fix random seed for reproducibility\n",
        "seed = 7\n",
        "numpy.random.seed(seed)\n",
        "\n"
      ],
      "execution_count": null,
      "outputs": [
        {
          "output_type": "stream",
          "text": [
            "Using TensorFlow backend.\n"
          ],
          "name": "stderr"
        }
      ]
    },
    {
      "metadata": {
        "id": "nINr076hMs1T",
        "colab": {
          "base_uri": "https://localhost:8080/",
          "height": 74,
          "resources": {
            "http://localhost:8080/nbextensions/google.colab/files.js": {
              "data": "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",
              "ok": true,
              "headers": [
                [
                  "content-type",
                  "application/javascript"
                ]
              ],
              "status": 200,
              "status_text": ""
            }
          }
        },
        "outputId": "f1875fc8-e923-4a76-e5c1-c0faed87864f"
      },
      "cell_type": "code",
      "source": [
        "#uploading csv file\n",
        "\n",
        "from google.colab import files\n",
        "uploaded = files.upload()"
      ],
      "execution_count": 1,
      "outputs": [
        {
          "output_type": "display_data",
          "data": {
            "text/plain": [
              "<IPython.core.display.HTML object>"
            ],
            "text/html": [
              "\n",
              "     <input type=\"file\" id=\"files-12ec964e-f0a3-4b5a-b5ef-f3900fde0cf6\" name=\"files[]\" multiple disabled\n",
              "        style=\"border:none\" />\n",
              "     <output id=\"result-12ec964e-f0a3-4b5a-b5ef-f3900fde0cf6\">\n",
              "      Upload widget is only available when the cell has been executed in the\n",
              "      current browser session. Please rerun this cell to enable.\n",
              "      </output>\n",
              "      <script src=\"/nbextensions/google.colab/files.js\"></script> "
            ]
          },
          "metadata": {}
        },
        {
          "output_type": "stream",
          "name": "stdout",
          "text": [
            "Saving sonar.all-data to sonar.all-data\n"
          ]
        }
      ]
    },
    {
      "metadata": {
        "id": "hLQXrkuKM4rd"
      },
      "cell_type": "code",
      "source": [
        "#Importing file\n",
        "\n",
        "import io\n",
        "data = io.BytesIO(uploaded['sonar.csv'])"
      ],
      "execution_count": null,
      "outputs": []
    },
    {
      "metadata": {
        "id": "jhrOq5n-oNTZ"
      },
      "cell_type": "code",
      "source": [
        "# load dataset\n",
        "dataframe = pandas.read_csv(data, header=None)\n",
        "dataset = dataframe.values\n",
        "# split into input (X) and output (Y) variables\n",
        "X = dataset[:,0:60].astype(float)\n",
        "Y = dataset[:,60]"
      ],
      "execution_count": null,
      "outputs": []
    },
    {
      "metadata": {
        "id": "IzprOKkEtEcZ",
        "colab": {
          "base_uri": "https://localhost:8080/",
          "height": 136
        },
        "outputId": "bf707fe9-02d6-44d2-8b4f-095c40044941"
      },
      "cell_type": "code",
      "source": [
        "print(X[0])\n",
        "print(Y[0])\n"
      ],
      "execution_count": null,
      "outputs": [
        {
          "output_type": "stream",
          "text": [
            "[0.02   0.0371 0.0428 0.0207 0.0954 0.0986 0.1539 0.1601 0.3109 0.2111\n",
            " 0.1609 0.1582 0.2238 0.0645 0.066  0.2273 0.31   0.2999 0.5078 0.4797\n",
            " 0.5783 0.5071 0.4328 0.555  0.6711 0.6415 0.7104 0.808  0.6791 0.3857\n",
            " 0.1307 0.2604 0.5121 0.7547 0.8537 0.8507 0.6692 0.6097 0.4943 0.2744\n",
            " 0.051  0.2834 0.2825 0.4256 0.2641 0.1386 0.1051 0.1343 0.0383 0.0324\n",
            " 0.0232 0.0027 0.0065 0.0159 0.0072 0.0167 0.018  0.0084 0.009  0.0032]\n",
            "R\n"
          ],
          "name": "stdout"
        }
      ]
    },
    {
      "metadata": {
        "id": "D_0sxKs_NM3R",
        "colab": {
          "base_uri": "https://localhost:8080/",
          "height": 408
        },
        "outputId": "613c0896-c261-4e96-bcd8-17f1ff7dbe50"
      },
      "cell_type": "code",
      "source": [
        "dataframe[:10]"
      ],
      "execution_count": null,
      "outputs": [
        {
          "output_type": "execute_result",
          "data": {
            "text/html": [
              "<div>\n",
              "<style scoped>\n",
              "    .dataframe tbody tr th:only-of-type {\n",
              "        vertical-align: middle;\n",
              "    }\n",
              "\n",
              "    .dataframe tbody tr th {\n",
              "        vertical-align: top;\n",
              "    }\n",
              "\n",
              "    .dataframe thead th {\n",
              "        text-align: right;\n",
              "    }\n",
              "</style>\n",
              "<table border=\"1\" class=\"dataframe\">\n",
              "  <thead>\n",
              "    <tr style=\"text-align: right;\">\n",
              "      <th></th>\n",
              "      <th>0</th>\n",
              "      <th>1</th>\n",
              "      <th>2</th>\n",
              "      <th>3</th>\n",
              "      <th>4</th>\n",
              "      <th>5</th>\n",
              "      <th>6</th>\n",
              "      <th>7</th>\n",
              "      <th>8</th>\n",
              "      <th>9</th>\n",
              "      <th>...</th>\n",
              "      <th>51</th>\n",
              "      <th>52</th>\n",
              "      <th>53</th>\n",
              "      <th>54</th>\n",
              "      <th>55</th>\n",
              "      <th>56</th>\n",
              "      <th>57</th>\n",
              "      <th>58</th>\n",
              "      <th>59</th>\n",
              "      <th>60</th>\n",
              "    </tr>\n",
              "  </thead>\n",
              "  <tbody>\n",
              "    <tr>\n",
              "      <th>0</th>\n",
              "      <td>0.0200</td>\n",
              "      <td>0.0371</td>\n",
              "      <td>0.0428</td>\n",
              "      <td>0.0207</td>\n",
              "      <td>0.0954</td>\n",
              "      <td>0.0986</td>\n",
              "      <td>0.1539</td>\n",
              "      <td>0.1601</td>\n",
              "      <td>0.3109</td>\n",
              "      <td>0.2111</td>\n",
              "      <td>...</td>\n",
              "      <td>0.0027</td>\n",
              "      <td>0.0065</td>\n",
              "      <td>0.0159</td>\n",
              "      <td>0.0072</td>\n",
              "      <td>0.0167</td>\n",
              "      <td>0.0180</td>\n",
              "      <td>0.0084</td>\n",
              "      <td>0.0090</td>\n",
              "      <td>0.0032</td>\n",
              "      <td>R</td>\n",
              "    </tr>\n",
              "    <tr>\n",
              "      <th>1</th>\n",
              "      <td>0.0453</td>\n",
              "      <td>0.0523</td>\n",
              "      <td>0.0843</td>\n",
              "      <td>0.0689</td>\n",
              "      <td>0.1183</td>\n",
              "      <td>0.2583</td>\n",
              "      <td>0.2156</td>\n",
              "      <td>0.3481</td>\n",
              "      <td>0.3337</td>\n",
              "      <td>0.2872</td>\n",
              "      <td>...</td>\n",
              "      <td>0.0084</td>\n",
              "      <td>0.0089</td>\n",
              "      <td>0.0048</td>\n",
              "      <td>0.0094</td>\n",
              "      <td>0.0191</td>\n",
              "      <td>0.0140</td>\n",
              "      <td>0.0049</td>\n",
              "      <td>0.0052</td>\n",
              "      <td>0.0044</td>\n",
              "      <td>R</td>\n",
              "    </tr>\n",
              "    <tr>\n",
              "      <th>2</th>\n",
              "      <td>0.0262</td>\n",
              "      <td>0.0582</td>\n",
              "      <td>0.1099</td>\n",
              "      <td>0.1083</td>\n",
              "      <td>0.0974</td>\n",
              "      <td>0.2280</td>\n",
              "      <td>0.2431</td>\n",
              "      <td>0.3771</td>\n",
              "      <td>0.5598</td>\n",
              "      <td>0.6194</td>\n",
              "      <td>...</td>\n",
              "      <td>0.0232</td>\n",
              "      <td>0.0166</td>\n",
              "      <td>0.0095</td>\n",
              "      <td>0.0180</td>\n",
              "      <td>0.0244</td>\n",
              "      <td>0.0316</td>\n",
              "      <td>0.0164</td>\n",
              "      <td>0.0095</td>\n",
              "      <td>0.0078</td>\n",
              "      <td>R</td>\n",
              "    </tr>\n",
              "    <tr>\n",
              "      <th>3</th>\n",
              "      <td>0.0100</td>\n",
              "      <td>0.0171</td>\n",
              "      <td>0.0623</td>\n",
              "      <td>0.0205</td>\n",
              "      <td>0.0205</td>\n",
              "      <td>0.0368</td>\n",
              "      <td>0.1098</td>\n",
              "      <td>0.1276</td>\n",
              "      <td>0.0598</td>\n",
              "      <td>0.1264</td>\n",
              "      <td>...</td>\n",
              "      <td>0.0121</td>\n",
              "      <td>0.0036</td>\n",
              "      <td>0.0150</td>\n",
              "      <td>0.0085</td>\n",
              "      <td>0.0073</td>\n",
              "      <td>0.0050</td>\n",
              "      <td>0.0044</td>\n",
              "      <td>0.0040</td>\n",
              "      <td>0.0117</td>\n",
              "      <td>R</td>\n",
              "    </tr>\n",
              "    <tr>\n",
              "      <th>4</th>\n",
              "      <td>0.0762</td>\n",
              "      <td>0.0666</td>\n",
              "      <td>0.0481</td>\n",
              "      <td>0.0394</td>\n",
              "      <td>0.0590</td>\n",
              "      <td>0.0649</td>\n",
              "      <td>0.1209</td>\n",
              "      <td>0.2467</td>\n",
              "      <td>0.3564</td>\n",
              "      <td>0.4459</td>\n",
              "      <td>...</td>\n",
              "      <td>0.0031</td>\n",
              "      <td>0.0054</td>\n",
              "      <td>0.0105</td>\n",
              "      <td>0.0110</td>\n",
              "      <td>0.0015</td>\n",
              "      <td>0.0072</td>\n",
              "      <td>0.0048</td>\n",
              "      <td>0.0107</td>\n",
              "      <td>0.0094</td>\n",
              "      <td>R</td>\n",
              "    </tr>\n",
              "    <tr>\n",
              "      <th>5</th>\n",
              "      <td>0.0286</td>\n",
              "      <td>0.0453</td>\n",
              "      <td>0.0277</td>\n",
              "      <td>0.0174</td>\n",
              "      <td>0.0384</td>\n",
              "      <td>0.0990</td>\n",
              "      <td>0.1201</td>\n",
              "      <td>0.1833</td>\n",
              "      <td>0.2105</td>\n",
              "      <td>0.3039</td>\n",
              "      <td>...</td>\n",
              "      <td>0.0045</td>\n",
              "      <td>0.0014</td>\n",
              "      <td>0.0038</td>\n",
              "      <td>0.0013</td>\n",
              "      <td>0.0089</td>\n",
              "      <td>0.0057</td>\n",
              "      <td>0.0027</td>\n",
              "      <td>0.0051</td>\n",
              "      <td>0.0062</td>\n",
              "      <td>R</td>\n",
              "    </tr>\n",
              "    <tr>\n",
              "      <th>6</th>\n",
              "      <td>0.0317</td>\n",
              "      <td>0.0956</td>\n",
              "      <td>0.1321</td>\n",
              "      <td>0.1408</td>\n",
              "      <td>0.1674</td>\n",
              "      <td>0.1710</td>\n",
              "      <td>0.0731</td>\n",
              "      <td>0.1401</td>\n",
              "      <td>0.2083</td>\n",
              "      <td>0.3513</td>\n",
              "      <td>...</td>\n",
              "      <td>0.0201</td>\n",
              "      <td>0.0248</td>\n",
              "      <td>0.0131</td>\n",
              "      <td>0.0070</td>\n",
              "      <td>0.0138</td>\n",
              "      <td>0.0092</td>\n",
              "      <td>0.0143</td>\n",
              "      <td>0.0036</td>\n",
              "      <td>0.0103</td>\n",
              "      <td>R</td>\n",
              "    </tr>\n",
              "    <tr>\n",
              "      <th>7</th>\n",
              "      <td>0.0519</td>\n",
              "      <td>0.0548</td>\n",
              "      <td>0.0842</td>\n",
              "      <td>0.0319</td>\n",
              "      <td>0.1158</td>\n",
              "      <td>0.0922</td>\n",
              "      <td>0.1027</td>\n",
              "      <td>0.0613</td>\n",
              "      <td>0.1465</td>\n",
              "      <td>0.2838</td>\n",
              "      <td>...</td>\n",
              "      <td>0.0081</td>\n",
              "      <td>0.0120</td>\n",
              "      <td>0.0045</td>\n",
              "      <td>0.0121</td>\n",
              "      <td>0.0097</td>\n",
              "      <td>0.0085</td>\n",
              "      <td>0.0047</td>\n",
              "      <td>0.0048</td>\n",
              "      <td>0.0053</td>\n",
              "      <td>R</td>\n",
              "    </tr>\n",
              "    <tr>\n",
              "      <th>8</th>\n",
              "      <td>0.0223</td>\n",
              "      <td>0.0375</td>\n",
              "      <td>0.0484</td>\n",
              "      <td>0.0475</td>\n",
              "      <td>0.0647</td>\n",
              "      <td>0.0591</td>\n",
              "      <td>0.0753</td>\n",
              "      <td>0.0098</td>\n",
              "      <td>0.0684</td>\n",
              "      <td>0.1487</td>\n",
              "      <td>...</td>\n",
              "      <td>0.0145</td>\n",
              "      <td>0.0128</td>\n",
              "      <td>0.0145</td>\n",
              "      <td>0.0058</td>\n",
              "      <td>0.0049</td>\n",
              "      <td>0.0065</td>\n",
              "      <td>0.0093</td>\n",
              "      <td>0.0059</td>\n",
              "      <td>0.0022</td>\n",
              "      <td>R</td>\n",
              "    </tr>\n",
              "    <tr>\n",
              "      <th>9</th>\n",
              "      <td>0.0164</td>\n",
              "      <td>0.0173</td>\n",
              "      <td>0.0347</td>\n",
              "      <td>0.0070</td>\n",
              "      <td>0.0187</td>\n",
              "      <td>0.0671</td>\n",
              "      <td>0.1056</td>\n",
              "      <td>0.0697</td>\n",
              "      <td>0.0962</td>\n",
              "      <td>0.0251</td>\n",
              "      <td>...</td>\n",
              "      <td>0.0090</td>\n",
              "      <td>0.0223</td>\n",
              "      <td>0.0179</td>\n",
              "      <td>0.0084</td>\n",
              "      <td>0.0068</td>\n",
              "      <td>0.0032</td>\n",
              "      <td>0.0035</td>\n",
              "      <td>0.0056</td>\n",
              "      <td>0.0040</td>\n",
              "      <td>R</td>\n",
              "    </tr>\n",
              "  </tbody>\n",
              "</table>\n",
              "<p>10 rows × 61 columns</p>\n",
              "</div>"
            ],
            "text/plain": [
              "       0       1       2       3       4       5       6       7       8   \\\n",
              "0  0.0200  0.0371  0.0428  0.0207  0.0954  0.0986  0.1539  0.1601  0.3109   \n",
              "1  0.0453  0.0523  0.0843  0.0689  0.1183  0.2583  0.2156  0.3481  0.3337   \n",
              "2  0.0262  0.0582  0.1099  0.1083  0.0974  0.2280  0.2431  0.3771  0.5598   \n",
              "3  0.0100  0.0171  0.0623  0.0205  0.0205  0.0368  0.1098  0.1276  0.0598   \n",
              "4  0.0762  0.0666  0.0481  0.0394  0.0590  0.0649  0.1209  0.2467  0.3564   \n",
              "5  0.0286  0.0453  0.0277  0.0174  0.0384  0.0990  0.1201  0.1833  0.2105   \n",
              "6  0.0317  0.0956  0.1321  0.1408  0.1674  0.1710  0.0731  0.1401  0.2083   \n",
              "7  0.0519  0.0548  0.0842  0.0319  0.1158  0.0922  0.1027  0.0613  0.1465   \n",
              "8  0.0223  0.0375  0.0484  0.0475  0.0647  0.0591  0.0753  0.0098  0.0684   \n",
              "9  0.0164  0.0173  0.0347  0.0070  0.0187  0.0671  0.1056  0.0697  0.0962   \n",
              "\n",
              "       9  ...      51      52      53      54      55      56      57      58  \\\n",
              "0  0.2111 ...  0.0027  0.0065  0.0159  0.0072  0.0167  0.0180  0.0084  0.0090   \n",
              "1  0.2872 ...  0.0084  0.0089  0.0048  0.0094  0.0191  0.0140  0.0049  0.0052   \n",
              "2  0.6194 ...  0.0232  0.0166  0.0095  0.0180  0.0244  0.0316  0.0164  0.0095   \n",
              "3  0.1264 ...  0.0121  0.0036  0.0150  0.0085  0.0073  0.0050  0.0044  0.0040   \n",
              "4  0.4459 ...  0.0031  0.0054  0.0105  0.0110  0.0015  0.0072  0.0048  0.0107   \n",
              "5  0.3039 ...  0.0045  0.0014  0.0038  0.0013  0.0089  0.0057  0.0027  0.0051   \n",
              "6  0.3513 ...  0.0201  0.0248  0.0131  0.0070  0.0138  0.0092  0.0143  0.0036   \n",
              "7  0.2838 ...  0.0081  0.0120  0.0045  0.0121  0.0097  0.0085  0.0047  0.0048   \n",
              "8  0.1487 ...  0.0145  0.0128  0.0145  0.0058  0.0049  0.0065  0.0093  0.0059   \n",
              "9  0.0251 ...  0.0090  0.0223  0.0179  0.0084  0.0068  0.0032  0.0035  0.0056   \n",
              "\n",
              "       59  60  \n",
              "0  0.0032   R  \n",
              "1  0.0044   R  \n",
              "2  0.0078   R  \n",
              "3  0.0117   R  \n",
              "4  0.0094   R  \n",
              "5  0.0062   R  \n",
              "6  0.0103   R  \n",
              "7  0.0053   R  \n",
              "8  0.0022   R  \n",
              "9  0.0040   R  \n",
              "\n",
              "[10 rows x 61 columns]"
            ]
          },
          "metadata": {
            "tags": []
          },
          "execution_count": 6
        }
      ]
    },
    {
      "metadata": {
        "id": "-CI2RsbFNigV",
        "colab": {
          "base_uri": "https://localhost:8080/",
          "height": 241
        },
        "outputId": "59addf25-fd85-49ef-dbbb-83dee801f822"
      },
      "cell_type": "code",
      "source": [
        "\n",
        "#Encoding labels\n",
        "\n",
        "# Create a label (category) encoder object\n",
        "le = preprocessing.LabelEncoder()\n",
        "# Fit the encoder to the pandas column\n",
        "le.fit(Y)\n",
        "print(list(le.classes_))\n",
        "encoded_Y=le.transform(Y)\n",
        "\n",
        "print('\\n Encoded Labels',encoded_Y)\n",
        "\n",
        "print(\"\\n\",le.inverse_transform([0,1]))"
      ],
      "execution_count": null,
      "outputs": [
        {
          "output_type": "stream",
          "text": [
            "['M', 'R']\n",
            "\n",
            " Encoded Labels [1 1 1 1 1 1 1 1 1 1 1 1 1 1 1 1 1 1 1 1 1 1 1 1 1 1 1 1 1 1 1 1 1 1 1 1 1\n",
            " 1 1 1 1 1 1 1 1 1 1 1 1 1 1 1 1 1 1 1 1 1 1 1 1 1 1 1 1 1 1 1 1 1 1 1 1 1\n",
            " 1 1 1 1 1 1 1 1 1 1 1 1 1 1 1 1 1 1 1 1 1 1 1 0 0 0 0 0 0 0 0 0 0 0 0 0 0\n",
            " 0 0 0 0 0 0 0 0 0 0 0 0 0 0 0 0 0 0 0 0 0 0 0 0 0 0 0 0 0 0 0 0 0 0 0 0 0\n",
            " 0 0 0 0 0 0 0 0 0 0 0 0 0 0 0 0 0 0 0 0 0 0 0 0 0 0 0 0 0 0 0 0 0 0 0 0 0\n",
            " 0 0 0 0 0 0 0 0 0 0 0 0 0 0 0 0 0 0 0 0 0 0 0]\n",
            "\n",
            " ['M' 'R']\n"
          ],
          "name": "stdout"
        },
        {
          "output_type": "stream",
          "text": [
            "/usr/local/lib/python3.6/dist-packages/sklearn/preprocessing/label.py:151: DeprecationWarning: The truth value of an empty array is ambiguous. Returning False, but in future this will result in an error. Use `array.size > 0` to check that an array is not empty.\n",
            "  if diff:\n"
          ],
          "name": "stderr"
        }
      ]
    },
    {
      "metadata": {
        "id": "7dAgvXwTN2KL"
      },
      "cell_type": "code",
      "source": [
        "# baseline model\n",
        "\n",
        "def create_baseline():\n",
        "#creating a model\n",
        "    \n",
        "    model=Sequential()\n",
        "    model.add(Dense(60, activation='relu', input_shape=(60,)))\n",
        "    model.add(Dense(1, activation='sigmoid'))\n",
        "    \n",
        "    #compiling it\n",
        "    model.compile(optimizer='adam',\n",
        "              loss='binary_crossentropy',\n",
        "              metrics=['accuracy'])\n",
        "    return model\n"
      ],
      "execution_count": null,
      "outputs": []
    },
    {
      "metadata": {
        "id": "ykMIZwBSNlit",
        "colab": {
          "base_uri": "https://localhost:8080/",
          "height": 34
        },
        "outputId": "80f6fc67-9273-4a77-cf86-ec2b7974c5e0"
      },
      "cell_type": "code",
      "source": [
        "# evaluate model with standardized dataset\n",
        "\n",
        "estimator = KerasClassifier(build_fn=create_baseline, epochs=100, batch_size=5, verbose=0)\n",
        "kfold = StratifiedKFold(n_splits=10, shuffle=True, random_state=seed)\n",
        "results = cross_val_score(estimator, X, encoded_Y, cv=kfold)\n",
        "print(\"Results: %.2f%% (%.2f%%)\" % (results.mean()*100, results.std()*100))\n"
      ],
      "execution_count": null,
      "outputs": [
        {
          "output_type": "stream",
          "text": [
            "Results: 83.71% (6.13%)\n"
          ],
          "name": "stdout"
        }
      ]
    },
    {
      "metadata": {
        "id": "rbpSkkPZQHk5"
      },
      "cell_type": "markdown",
      "source": [
        "**Step 3. Re-Run The Baseline Model With Data Preparation**"
      ]
    },
    {
      "metadata": {
        "id": "IrSNSwxEN_ib",
        "colab": {
          "base_uri": "https://localhost:8080/",
          "height": 34
        },
        "outputId": "a6b496b2-b0dc-4095-c9c8-e33eb528e567"
      },
      "cell_type": "code",
      "source": [
        "# evaluate baseline model with standardized dataset\n",
        "numpy.random.seed(seed)\n",
        "estimators = []\n",
        "estimators.append(('standardize', StandardScaler()))\n",
        "estimators.append(('mlp', KerasClassifier(build_fn=create_baseline, epochs=100, batch_size=5, verbose=0)))\n",
        "pipeline = Pipeline(estimators)\n",
        "kfold = StratifiedKFold(n_splits=10, shuffle=True, random_state=seed)\n",
        "results = cross_val_score(pipeline, X, encoded_Y, cv=kfold)\n",
        "print(\"Standardized: %.2f%% (%.2f%%)\" % (results.mean()*100, results.std()*100))\n"
      ],
      "execution_count": null,
      "outputs": [
        {
          "output_type": "stream",
          "text": [
            "Standardized: 85.59% (7.46%)\n"
          ],
          "name": "stdout"
        }
      ]
    },
    {
      "metadata": {
        "id": "fjqRdm6gSVf2",
        "colab": {
          "base_uri": "https://localhost:8080/",
          "height": 34
        },
        "outputId": "a8221329-5233-4509-afa4-13762e075f32"
      },
      "cell_type": "code",
      "source": [
        "print(len(estimators))"
      ],
      "execution_count": null,
      "outputs": [
        {
          "output_type": "stream",
          "text": [
            "2\n"
          ],
          "name": "stdout"
        }
      ]
    },
    {
      "metadata": {
        "id": "xSD7RHJK24Ew"
      },
      "cell_type": "markdown",
      "source": [
        "**Step 4. Tuning Layers and Number of Neurons in The Model**"
      ]
    },
    {
      "metadata": {
        "id": "rOTA5WE023sy",
        "colab": {
          "base_uri": "https://localhost:8080/",
          "height": 34
        },
        "outputId": "0860bf4f-04d3-41fc-fa53-2789c07bfd58"
      },
      "cell_type": "code",
      "source": [
        "#4.1. Evaluate a Smaller Network\n",
        "\n",
        "# smaller model\n",
        "def create_smaller():\n",
        "\t#creating a model\n",
        "    \n",
        "  model=Sequential()\n",
        "  model.add(Dense(30, activation='relu', input_shape=(60,)))\n",
        "  model.add(Dense(1, activation='sigmoid'))\n",
        "    \n",
        "  #compiling it\n",
        "  model.compile(optimizer='adam',\n",
        "              loss='binary_crossentropy',\n",
        "              metrics=['accuracy'])\n",
        "  return model\n",
        "\t\n",
        "estimators = []\n",
        "estimators.append(('standardize', StandardScaler()))\n",
        "estimators.append(('mlp', KerasClassifier(build_fn=create_smaller, epochs=100, batch_size=5, verbose=0)))\n",
        "pipeline = Pipeline(estimators)\n",
        "kfold = StratifiedKFold(n_splits=10, shuffle=True, random_state=seed)\n",
        "results = cross_val_score(pipeline, X, encoded_Y, cv=kfold)\n",
        "print(\"Smaller: %.2f%% (%.2f%%)\" % (results.mean()*100, results.std()*100))\n"
      ],
      "execution_count": null,
      "outputs": [
        {
          "output_type": "stream",
          "text": [
            "Smaller: 85.54% (7.82%)\n"
          ],
          "name": "stdout"
        }
      ]
    },
    {
      "metadata": {
        "id": "0MNFQIXbSw99",
        "colab": {
          "base_uri": "https://localhost:8080/",
          "height": 34
        },
        "outputId": "3356de19-79ee-46bf-fd1e-efe15e34a483"
      },
      "cell_type": "code",
      "source": [
        "#Step 4.2. Evaluate a Larger Network\n",
        "\n",
        "# Larger model\n",
        "def create_larger():\n",
        "\t#creating a model\n",
        "    \n",
        "  model=Sequential()\n",
        "  model.add(Dense(60, activation='relu', input_shape=(60,)))\n",
        "  model.add(Dense(30, activation='relu'))\n",
        "  model.add(Dense(1, activation='sigmoid'))\n",
        "    \n",
        "  #compiling it\n",
        "  model.compile(optimizer='adam',\n",
        "              loss='binary_crossentropy',\n",
        "              metrics=['accuracy'])\n",
        "  return model\n",
        "\t\n",
        "estimators = []\n",
        "estimators.append(('standardize', StandardScaler()))\n",
        "estimators.append(('mlp', KerasClassifier(build_fn=create_larger, epochs=100, batch_size=5, verbose=0)))\n",
        "pipeline = Pipeline(estimators)\n",
        "kfold = StratifiedKFold(n_splits=10, shuffle=True, random_state=seed)\n",
        "results = cross_val_score(pipeline, X, encoded_Y, cv=kfold)\n",
        "print(\"larger: %.2f%% (%.2f%%)\" % (results.mean()*100, results.std()*100))\n",
        "\n"
      ],
      "execution_count": null,
      "outputs": [
        {
          "output_type": "stream",
          "text": [
            "larger: 84.54% (8.16%)\n"
          ],
          "name": "stdout"
        }
      ]
    },
    {
      "metadata": {
        "id": "_1x9upip6J2g"
      },
      "cell_type": "markdown",
      "source": [
        "**Step 5: Really Scaling up: developing a model that overfits**"
      ]
    },
    {
      "metadata": {
        "id": "LhdiOrvZ48xz",
        "colab": {
          "base_uri": "https://localhost:8080/",
          "height": 34
        },
        "outputId": "5c6ffb4c-f979-4498-d022-a9098e8e2990"
      },
      "cell_type": "code",
      "source": [
        "#very large model\n",
        "\n",
        "\n",
        "def create_larger():\n",
        "\t#creating a model\n",
        "    \n",
        "  model=Sequential()\n",
        "  model.add(Dense(60, activation='relu', input_shape=(60,)))\n",
        "  model.add(Dense(60, activation='relu'))\n",
        "  model.add(Dense(40, activation='relu'))\n",
        "  model.add(Dense(1, activation='sigmoid'))\n",
        "    \n",
        "  #compiling it\n",
        "  model.compile(optimizer='adam',\n",
        "              loss='binary_crossentropy',\n",
        "              metrics=['accuracy'])\n",
        "  return model\n",
        "\t\n",
        "estimators = []\n",
        "estimators.append(('standardize', StandardScaler()))\n",
        "estimators.append(('mlp', KerasClassifier(build_fn=create_larger, epochs=250, batch_size=5, verbose=0)))\n",
        "pipeline = Pipeline(estimators)\n",
        "kfold = StratifiedKFold(n_splits=10, shuffle=True, random_state=seed)\n",
        "results = cross_val_score(pipeline, X, encoded_Y, cv=kfold)\n",
        "print(\"larger: %.2f%% (%.2f%%)\" % (results.mean()*100, results.std()*100))\n",
        "\n"
      ],
      "execution_count": null,
      "outputs": [
        {
          "output_type": "stream",
          "text": [
            "larger: 84.11% (8.17%)\n"
          ],
          "name": "stdout"
        }
      ]
    },
    {
      "metadata": {
        "id": "f8lrx2PP9OuH"
      },
      "cell_type": "markdown",
      "source": [
        "**Step 6: Tuning the Model**"
      ]
    },
    {
      "metadata": {
        "id": "NTTLgiRl6oJT",
        "colab": {
          "base_uri": "https://localhost:8080/",
          "height": 34
        },
        "outputId": "ac416c4b-1b77-488f-b7bd-7a29b09f3d14"
      },
      "cell_type": "code",
      "source": [
        "# Tuned Model\n",
        "\n",
        "#optimizer=rmsprop , epochs=50 , batch size=5 Accuracy=82.16% (7.22%)\n",
        "#optimizer=rmsprop , epochs=40 , batch size=5 Accuracy=82.16% (7.86%)\n",
        "#optimizer=adam , epochs=40 , batch size=5 Accuracy= 85.04% (9.28%)\n",
        "\n",
        "\n",
        "def create_baseline():\n",
        "#creating a model\n",
        "    \n",
        "    model=Sequential()\n",
        "    model.add(Dense(60, activation='relu', input_shape=(60,)))\n",
        "    model.add(Dense(1, activation='sigmoid'))\n",
        "    \n",
        "    #compiling it\n",
        "    model.compile(optimizer='adam',\n",
        "              loss='binary_crossentropy',\n",
        "              metrics=['accuracy'])\n",
        "    return model\n",
        "\n",
        "  \n",
        "estimators = []\n",
        "estimators.append(('standardize', StandardScaler()))\n",
        "estimators.append(('mlp', KerasClassifier(build_fn=create_baseline, epochs=40, batch_size=5, verbose=0)))\n",
        "pipeline = Pipeline(estimators)\n",
        "kfold = StratifiedKFold(n_splits=10, shuffle=True, random_state=seed)\n",
        "results = cross_val_score(pipeline, X, encoded_Y, cv=kfold)\n",
        "print(\"Tuned model: %.2f%% (%.2f%%)\" % (results.mean()*100, results.std()*100))\n",
        "\n"
      ],
      "execution_count": null,
      "outputs": [
        {
          "output_type": "stream",
          "text": [
            "Tuned model: 85.04% (9.28%)\n"
          ],
          "name": "stdout"
        }
      ]
    },
    {
      "metadata": {
        "id": "aXZy1JyR__wp"
      },
      "cell_type": "markdown",
      "source": [
        "***Highest accuracy so far is 85.04%***"
      ]
    },
    {
      "metadata": {
        "id": "8nUf3UKX_twR"
      },
      "cell_type": "markdown",
      "source": [
        "**Step 7: Rewriting the code using the Keras Functional API**"
      ]
    },
    {
      "metadata": {
        "id": "_9auRG1P8Mwj",
        "colab": {
          "base_uri": "https://localhost:8080/",
          "height": 34
        },
        "outputId": "bdc1e191-812b-4f81-b005-0ffec543c0cb"
      },
      "cell_type": "code",
      "source": [
        "# functional API\n",
        "\n",
        "from keras.layers import Input, Dense\n",
        "from keras.models import Model\n",
        "\n",
        "def functional_api():\n",
        "  # This returns a tensor\n",
        "  inputs = Input(shape=(60,))\n",
        "\n",
        "  # a layer instance is callable on a tensor, and returns a tensor\n",
        "  x = Dense(60, activation='relu')(inputs)\n",
        "  predictions = Dense(1, activation='sigmoid')(x)\n",
        "\n",
        "  # This creates a model that includes\n",
        "  # the Input layer and three Dense layers\n",
        "  model = Model(inputs=inputs, outputs=predictions)\n",
        "  model.compile(optimizer='adam',\n",
        "                loss='binary_crossentropy',\n",
        "                metrics=['accuracy'])\n",
        "  return model\n",
        "estimators = []\n",
        "estimators.append(('standardize', StandardScaler()))\n",
        "estimators.append(('mlp', KerasClassifier(build_fn=functional_api, epochs=40, batch_size=5, verbose=0)))\n",
        "pipeline = Pipeline(estimators)\n",
        "kfold = StratifiedKFold(n_splits=10, shuffle=True, random_state=seed)\n",
        "results = cross_val_score(pipeline, X, encoded_Y, cv=kfold)\n",
        "print(\"Results: %.2f%% (%.2f%%)\" % (results.mean()*100, results.std()*100))\n",
        "\n"
      ],
      "execution_count": null,
      "outputs": [
        {
          "output_type": "stream",
          "text": [
            "Results: 87.95% (6.23%)\n"
          ],
          "name": "stdout"
        }
      ]
    },
    {
      "metadata": {
        "id": "CEzR-BAJE6oA"
      },
      "cell_type": "code",
      "source": [
        "#testing the model\n",
        "#not a part of the project\n",
        "\n",
        "#  Results: 87.95% (6.23%)\n",
        "  \n",
        "  # This returns a tensor\n",
        "inputs = Input(shape=(60,))\n",
        "\n",
        "# a layer instance is callable on a tensor, and returns a tensor\n",
        "x = Dense(60, activation='relu')(inputs)\n",
        "predictions = Dense(1, activation='sigmoid')(x)\n",
        "\n",
        "# This creates a model that includes\n",
        "# the Input layer and three Dense layers\n",
        "model = Model(inputs=inputs, outputs=predictions)\n",
        "model.compile(optimizer='adam',\n",
        "              loss='binary_crossentropy',\n",
        "              metrics=['accuracy'])\n",
        "\n",
        "history=model.fit(X,\n",
        "                  encoded_Y,\n",
        "                 epochs=50) "
      ],
      "execution_count": null,
      "outputs": []
    },
    {
      "metadata": {
        "id": "mimsPUSCGThh"
      },
      "cell_type": "code",
      "source": [
        "history.history"
      ],
      "execution_count": null,
      "outputs": []
    },
    {
      "metadata": {
        "id": "mlAlv3piUloC"
      },
      "cell_type": "markdown",
      "source": [
        "**Step 8: Rewriting the code by doing Model Subclassing**"
      ]
    },
    {
      "metadata": {
        "id": "MOVgexsrHrCx"
      },
      "cell_type": "code",
      "source": [
        "import keras\n",
        "from keras import layers\n",
        "\n",
        "class MyModel(keras.Model):\n",
        "    def __init__(self):\n",
        "        super(MyModel,self).__init__()\n",
        "        self.dense1=layers.Dense(60,activation=\"relu\")\n",
        "        self.dense2=layers.Dense(1,activation=\"sigmoid\")\n",
        "  \n",
        "    def call(self,inputs):\n",
        "        x=self.dense1(x)\n",
        "        return self.dense2(x)\n",
        "\n",
        "model=MyModel()\n",
        "hist=model.fit(X,encoded_Y,epochs=4,batch_size=5)\n",
        "hist\n",
        "\n"
      ],
      "execution_count": null,
      "outputs": []
    },
    {
      "metadata": {
        "id": "DOHERNgoVMGc"
      },
      "cell_type": "markdown",
      "source": [
        "**Step 9: Rewriting the code without using scikit-learn**"
      ]
    },
    {
      "metadata": {
        "id": "gWcAtkeEUTIP"
      },
      "cell_type": "code",
      "source": [
        "def build_model():\n",
        "#creating a model\n",
        "    \n",
        "  model=Sequential()\n",
        "  model.add(Dense(60, activation='relu', input_shape=(60,)))\n",
        "  model.add(Dense(1, activation='sigmoid'))\n",
        "    \n",
        "  #compiling it\n",
        "  model.compile(optimizer='adam',\n",
        "            loss='binary_crossentropy',\n",
        "            metrics=['accuracy'])\n",
        "  return model\n",
        "\n"
      ],
      "execution_count": null,
      "outputs": []
    },
    {
      "metadata": {
        "id": "8cNwaqYOWs8I",
        "colab": {
          "base_uri": "https://localhost:8080/",
          "height": 272
        },
        "outputId": "2fe54114-647f-4a53-ac24-11c1eb2863be"
      },
      "cell_type": "code",
      "source": [
        "# k fold code\n",
        "\n",
        "import numpy as np\n",
        "k =15\n",
        "num_val_samples = len(X) // k\n",
        "num_epochs = 100\n",
        "all_scores = []\n",
        "\n",
        "#following lists have mean values at every k fold\n",
        "acc=[]\n",
        "loss=[]\n",
        "val_acc=[]\n",
        "val_loss=[]\n",
        "\n",
        "#following 2 lists have the accuracies for every epoch\n",
        "acc_epoch=[]\n",
        "val_acc_epoch=[]\n",
        "\n",
        "for i in range(k):\n",
        "  print('processing fold #', i)\n",
        "  val_data = X[i * num_val_samples: (i + 1) * num_val_samples]\n",
        "  val_targets = encoded_Y[i * num_val_samples: (i + 1) * num_val_samples]\n",
        "  partial_train_data = np.concatenate(\n",
        "  [X[:i * num_val_samples],\n",
        "  X[(i + 1) * num_val_samples:]],\n",
        "  axis=0)\n",
        "  partial_train_targets = np.concatenate(\n",
        "  [encoded_Y[:i * num_val_samples],\n",
        "  encoded_Y[(i + 1) * num_val_samples:]],\n",
        "  axis=0)\n",
        "  model = build_model()\n",
        "  hist=model.fit(partial_train_data, partial_train_targets,\n",
        "  epochs=num_epochs, batch_size=1,validation_data=(val_data,val_targets),verbose=0)\n",
        "  \n",
        "  #taking mean of acc and losses for plotting\n",
        "  acc.append(np.mean(hist.history[\"acc\"]))\n",
        "  loss.append(np.mean(hist.history[\"loss\"]))\n",
        "\n",
        "  val_acc.append(np.mean(hist.history[\"val_acc\"]))\n",
        "  val_loss.append(np.mean(hist.history[\"val_loss\"]))\n",
        "  \n",
        "  acc_epoch.append(hist.history[\"acc\"])\n",
        "  val_acc_epoch.append(hist.history[\"val_acc\"])\n",
        "  "
      ],
      "execution_count": null,
      "outputs": [
        {
          "output_type": "stream",
          "text": [
            "processing fold # 0\n",
            "processing fold # 1\n",
            "processing fold # 2\n",
            "processing fold # 3\n",
            "processing fold # 4\n",
            "processing fold # 5\n",
            "processing fold # 6\n",
            "processing fold # 7\n",
            "processing fold # 8\n",
            "processing fold # 9\n",
            "processing fold # 10\n",
            "processing fold # 11\n",
            "processing fold # 12\n",
            "processing fold # 13\n",
            "processing fold # 14\n"
          ],
          "name": "stdout"
        }
      ]
    },
    {
      "metadata": {
        "id": "-B9zgVlHI0H5"
      },
      "cell_type": "markdown",
      "source": [
        "***plotting the validation and training accuracy at every [epoch]***\n"
      ]
    },
    {
      "metadata": {
        "id": "iQFoCpS44_ZF",
        "colab": {
          "base_uri": "https://localhost:8080/",
          "height": 381
        },
        "outputId": "58153e02-3d7b-46b0-c4ac-b03e178de2c7"
      },
      "cell_type": "code",
      "source": [
        "import matplotlib.pyplot as plt\n",
        "\n",
        "# Making the subplot and the figure for tw side by side plots\n",
        "plt.figure(1)\n",
        "\n",
        "epochs=range(1,101)\n",
        "\n",
        "#plt.subplot(nrows,ncoloumns,index) \n",
        "\n",
        "plt.subplot(321)\n",
        "plt.plot(epochs,acc_epoch[0],\"bo\")\n",
        "plt.plot(epochs,val_acc_epoch[0],\"b\")\n",
        "\n",
        "plt.subplot(322)\n",
        "plt.plot(epochs,acc_epoch[1],\"bo\")\n",
        "plt.plot(epochs,val_acc_epoch[1],\"b\")\n",
        "\n",
        "plt.subplot(323)\n",
        "plt.plot(epochs,acc_epoch[2],\"bo\")\n",
        "plt.plot(epochs,val_acc_epoch[2],\"b\")\n",
        "\n",
        "plt.subplot(324)\n",
        "plt.plot(epochs,acc_epoch[3],\"bo\")\n",
        "plt.plot(epochs,val_acc_epoch[3],\"b\")\n",
        "\n",
        "plt.subplot(325)\n",
        "plt.plot(epochs,acc_epoch[4],\"bo\")\n",
        "plt.plot(epochs,val_acc_epoch[4],\"b\")\n",
        "\n",
        "\n",
        "plt.subplot(326)\n",
        "plt.plot(epochs,acc_epoch[5],\"bo\")\n",
        "plt.plot(epochs,val_acc_epoch[5],\"b\")\n",
        "\n",
        "plt.subplots_adjust(top=0.92, bottom=0.08, left=0.10, right=0.95, hspace=0.25,\n",
        "                    wspace=0.35)\n",
        "\n",
        "plt.show()\n",
        "\n"
      ],
      "execution_count": null,
      "outputs": [
        {
          "output_type": "display_data",
          "data": {
            "image/png": "[encoded data removed]",
            "text/plain": [
              "<matplotlib.figure.Figure at 0x7f5c77beaef0>"
            ]
          },
          "metadata": {
            "tags": []
          }
        }
      ]
    },
    {
      "metadata": {
        "id": "anEDua-sSCLc"
      },
      "cell_type": "markdown",
      "source": [
        "**Plotting Accuracy and loss**"
      ]
    },
    {
      "metadata": {
        "id": "mR4o8AiiO62w",
        "colab": {
          "base_uri": "https://localhost:8080/",
          "height": 376
        },
        "outputId": "bb557f36-cccf-4b75-8368-a425271325f2"
      },
      "cell_type": "code",
      "source": [
        "import matplotlib.pyplot as plt\n",
        "\n",
        "k_folds = range(1, len(acc) + 1)\n",
        "\n",
        "# \"bo\" is for \"blue dot\"\n",
        "plt.plot(k_folds, loss, 'bo', label='Training loss')\n",
        "# b is for \"solid blue line\"\n",
        "plt.plot(k_folds, val_loss, 'b', label='Validation loss')\n",
        "plt.title('Training and validation loss per k fold')\n",
        "plt.xlabel('k folds')\n",
        "plt.ylabel('Loss')\n",
        "plt.legend()\n",
        "\n",
        "plt.show()"
      ],
      "execution_count": null,
      "outputs": [
        {
          "output_type": "display_data",
          "data": {
            "image/png": "[encoded data removed]",
            "text/plain": [
              "<matplotlib.figure.Figure at 0x7f5c770af9b0>"
            ]
          },
          "metadata": {
            "tags": []
          }
        }
      ]
    },
    {
      "metadata": {
        "id": "bF11BDGIE-d0",
        "colab": {
          "base_uri": "https://localhost:8080/",
          "height": 376
        },
        "outputId": "a95df51a-1648-405b-eda8-c261b7f2c2a4"
      },
      "cell_type": "code",
      "source": [
        "plt.plot(k_folds, acc, 'bo', label='Training acc')\n",
        "plt.plot(k_folds, val_acc, 'b', label='Validation acc')\n",
        "plt.title('Training and validation accuracy per k fold')\n",
        "plt.xlabel('k folds')\n",
        "plt.ylabel('Loss')\n",
        "plt.legend()\n",
        "\n",
        "plt.show()"
      ],
      "execution_count": null,
      "outputs": [
        {
          "output_type": "display_data",
          "data": {
            "image/png": "[encoded data removed]",
            "text/plain": [
              "<matplotlib.figure.Figure at 0x7f5c770f1d68>"
            ]
          },
          "metadata": {
            "tags": []
          }
        }
      ]
    }
  ]
}